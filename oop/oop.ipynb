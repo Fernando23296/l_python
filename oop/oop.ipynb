{
 "cells": [
  {
   "cell_type": "markdown",
   "metadata": {},
   "source": [
    "# Object Oriented Programming"
   ]
  },
  {
   "cell_type": "code",
   "execution_count": 3,
   "metadata": {},
   "outputs": [
    {
     "name": "stdout",
     "output_type": "stream",
     "text": [
      "blue\n",
      "sweet\n"
     ]
    }
   ],
   "source": [
    "class Apple:\n",
    "    color = \"\"\n",
    "    flavor = \"\"\n",
    "jonagold = Apple()\n",
    "jonagold.color = \"blue\"\n",
    "jonagold.flavor= \"sweet\"\n",
    "print(jonagold.color)\n",
    "print(jonagold.flavor)"
   ]
  },
  {
   "cell_type": "code",
   "execution_count": 7,
   "metadata": {},
   "outputs": [
    {
     "name": "stdout",
     "output_type": "stream",
     "text": [
      "I'm Rick the pig\n",
      "I'm Floripundia the pig\n"
     ]
    }
   ],
   "source": [
    "class Piglet:\n",
    "    name = \"piglet\"\n",
    "    def speak(self):\n",
    "        print(\"I'm {} the pig\".format(self.name))\n",
    "hamlet = Piglet()\n",
    "hamlet.name=\"Rick\"\n",
    "hamlet.speak()\n",
    "\n",
    "floripundia = Piglet()\n",
    "floripundia.name=\"Floripundia\"\n",
    "floripundia.speak()"
   ]
  },
  {
   "cell_type": "code",
   "execution_count": 9,
   "metadata": {},
   "outputs": [
    {
     "name": "stdout",
     "output_type": "stream",
     "text": [
      "64\n"
     ]
    }
   ],
   "source": [
    "class Dog:\n",
    "    name=\"\"\n",
    "    age=0\n",
    "    def age_human(self):\n",
    "        return self.age*8\n",
    "blue=Dog()\n",
    "blue.name=\"Blue\"\n",
    "blue.age=8\n",
    "print(blue.age_human())"
   ]
  },
  {
   "cell_type": "code",
   "execution_count": 12,
   "metadata": {},
   "outputs": [
    {
     "name": "stdout",
     "output_type": "stream",
     "text": [
      "the apple is Red color and tastes like Spicy\n"
     ]
    }
   ],
   "source": [
    "class Apple:\n",
    "    def __init__(self, color, flavor):\n",
    "        self.color = color \n",
    "        self.flavor = flavor\n",
    "    def __str__(self):\n",
    "        return \"the apple is {} color and tastes like {}\".format(self.color,self.flavor)\n",
    "\n",
    "j = Apple(\"Red\",\"Spicy\")\n",
    "print(j)"
   ]
  },
  {
   "cell_type": "code",
   "execution_count": null,
   "metadata": {},
   "outputs": [],
   "source": []
  }
 ],
 "metadata": {
  "kernelspec": {
   "display_name": "Python 3",
   "language": "python",
   "name": "python3"
  },
  "language_info": {
   "codemirror_mode": {
    "name": "ipython",
    "version": 3
   },
   "file_extension": ".py",
   "mimetype": "text/x-python",
   "name": "python",
   "nbconvert_exporter": "python",
   "pygments_lexer": "ipython3",
   "version": "3.7.4"
  }
 },
 "nbformat": 4,
 "nbformat_minor": 2
}
