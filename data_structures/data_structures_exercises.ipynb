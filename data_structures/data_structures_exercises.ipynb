{
 "cells": [
  {
   "cell_type": "markdown",
   "metadata": {},
   "source": [
    "# Data Structures\n",
    "\n",
    "### Lists"
   ]
  },
  {
   "cell_type": "code",
   "execution_count": 2,
   "metadata": {},
   "outputs": [
    {
     "name": "stdout",
     "output_type": "stream",
     "text": [
      "['program.c', 'stdio.h', 'sample.h', 'a.out', 'math.h', 'hpp.out']\n"
     ]
    }
   ],
   "source": [
    "'''\n",
    "Given a list of filenames, we want to rename all the files with extension hpp to the extension h. \n",
    "To do this, we would like to generate a new list called newfilenames, consisting of the new filenames. \n",
    "Fill in the blanks in the code using any of the methods you’ve learned thus far, \n",
    "like a for loop or a list comprehension.\n",
    "'''\n",
    "filenames = [\"program.c\", \"stdio.hpp\", \"sample.hpp\", \"a.out\", \"math.hpp\", \"hpp.out\"]\n",
    "newfilenames=[]\n",
    "for i in filenames:\n",
    "  if i[-3:]=='hpp':\n",
    "    i=i[:-3]+'h'\n",
    "  newfilenames.append(i)\n",
    "\n",
    "print(newfilenames) \n",
    "# Should be [\"program.c\", \"stdio.h\", \"sample.h\", \"a.out\", \"math.h\", \"hpp.out\"]"
   ]
  },
  {
   "cell_type": "code",
   "execution_count": 6,
   "metadata": {},
   "outputs": [
    {
     "name": "stdout",
     "output_type": "stream",
     "text": [
      "ellohay owhay reaay ouyay \n",
      "rogrammingpay niay ythonpay siay unfay \n"
     ]
    }
   ],
   "source": [
    "'''\n",
    "Let's create a function that turns text into pig latin: a simple text transformation that modifies each \n",
    "word moving the first character to the end and appending \"ay\" to the end. For example, python ends up as ythonpay.\n",
    "'''\n",
    "def pig_latin(text):\n",
    "  say = \"\"\n",
    "  # Separate the text into words\n",
    "  words = text.split()\n",
    "  for word in words:\n",
    "    # Create the pig latin word and add it to the list\n",
    "    say=say+word[1:]+word[0]+'ay '\n",
    "  \n",
    "  return(say)\n",
    "print(pig_latin(\"hello how are you\")) # Should be \"ellohay owhay reaay ouyay\"\n",
    "print(pig_latin(\"programming in python is fun\")) # Should be \"rogrammingpay niay ythonpay siay unfay\""
   ]
  },
  {
   "cell_type": "code",
   "execution_count": 12,
   "metadata": {},
   "outputs": [
    {
     "name": "stdout",
     "output_type": "stream",
     "text": [
      "Marketing: Mike, Karen, Jake, Tasha\n",
      "Engineering: Kim, Jay, Tom\n",
      "Users: \n"
     ]
    }
   ],
   "source": [
    "'''\n",
    "The group_list function accepts a group name and a list of members, and returns a string with the format: \n",
    "group_name: member1, member2, … \n",
    "For example, group_list(\"g\", [\"a\",\"b\",\"c\"]) returns \"g: a, b, c\". Fill in the gaps in this function to do that.\n",
    "'''\n",
    "def group_list(group, users):\n",
    "  members = group+\": \"\n",
    "  for i in range(len(users)):\n",
    "        if i == len(users)-1:\n",
    "            members= members+users[i]\n",
    "        else:\n",
    "            members= members+users[i]+\", \"\n",
    "    \n",
    "  return members\n",
    "\n",
    "print(group_list(\"Marketing\", [\"Mike\", \"Karen\", \"Jake\", \"Tasha\"])) # Should be \"Marketing: Mike, Karen, Jake, Tasha\"\n",
    "print(group_list(\"Engineering\", [\"Kim\", \"Jay\", \"Tom\"])) # Should be \"Engineering: Kim, Jay, Tom\"\n",
    "print(group_list(\"Users\", \"\")) # Should be \"Users:\""
   ]
  },
  {
   "cell_type": "code",
   "execution_count": 13,
   "metadata": {},
   "outputs": [
    {
     "name": "stdout",
     "output_type": "stream",
     "text": [
      "1\n",
      "8\n",
      "8\n"
     ]
    }
   ],
   "source": [
    "octal=188\n",
    "for i in [int(n) for n in str(octal)]:\n",
    "    print(i)"
   ]
  },
  {
   "cell_type": "code",
   "execution_count": 30,
   "metadata": {},
   "outputs": [
    {
     "name": "stdout",
     "output_type": "stream",
     "text": [
      "rwxr-xr-x\n",
      "rw-r--r--\n",
      "rwxr-x---\n",
      "rw-------\n"
     ]
    }
   ],
   "source": [
    "'''\n",
    "The permissions of a file in a Linux system are split into three sets of three permissions: \n",
    "read, write, and execute for the owner, group, and others. Each of the three values can be \n",
    "expressed as an octal number summing each permission, with 4 corresponding to read, 2 to write, \n",
    "and 1 to execute. Or it can be written with a string using the letters r, w, and x or - when the \n",
    "permission is not granted. For example: 640 is read/write for the owner, read for the group, and \n",
    "no permissions for the others; converted to a string, it would be: \"rw-r-----\" 755 is \n",
    "read/write/execute for the owner, and read/execute for group and others; converted to a string, \n",
    "it would be: \"rwxr-xr-x\" Fill in the blanks to make the code convert a permission in octal format \n",
    "into a string format.\n",
    "'''\n",
    "def octal_to_string(octal):\n",
    "    result = \"\"\n",
    "    value_letters = [(4,\"r\"),(2,\"w\"),(1,\"x\")]\n",
    "    for i in [int(n) for n in str(octal)]:\n",
    "        for value, letter in value_letters:\n",
    "            #if i > value:\n",
    "            if i >= value:\n",
    "                result += letter\n",
    "                i -= value\n",
    "            else:\n",
    "                result += '-'\n",
    "    return result\n",
    "    \n",
    "print(octal_to_string(755)) # Should be rwxr-xr-x\n",
    "print(octal_to_string(644)) # Should be rw-r--r--\n",
    "print(octal_to_string(750)) # Should be rwxr-x---\n",
    "print(octal_to_string(600)) # Should be rw-------"
   ]
  },
  {
   "cell_type": "code",
   "execution_count": 32,
   "metadata": {},
   "outputs": [
    {
     "name": "stdout",
     "output_type": "stream",
     "text": [
      "Ken is 30 years old and works as Chef\n",
      "Pat is 35 years old and works as Lawyer\n",
      "Amanda is 25 years old and works as Engineer\n"
     ]
    }
   ],
   "source": [
    "'''\n",
    "The guest_list function reads in a list of tuples with the name, age, and profession of each party guest, \n",
    "and prints the sentence \"Guest is X years old and works as __.\" for each one. For example, \n",
    "guest_list(('Ken', 30, \"Chef\"), (\"Pat\", 35, 'Lawyer'), ('Amanda', 25, \"Engineer\")) should \n",
    "print out: Ken is 30 years old and works as Chef. Pat is 35 years old and works as Lawyer. \n",
    "Amanda is 25 years old and works as Engineer. Fill in the gaps in this function to do that.\n",
    "'''\n",
    "def guest_list(guests):\n",
    "    for i in guests:\n",
    "        print(i[0]+\" is \"+str(i[1])+\" years old and works as \"+str(i[2]))\n",
    "\n",
    "\n",
    "guest_list([('Ken', 30, \"Chef\"), (\"Pat\", 35, 'Lawyer'), ('Amanda', 25, \"Engineer\")])"
   ]
  },
  {
   "cell_type": "markdown",
   "metadata": {},
   "source": [
    "### Dictionaries"
   ]
  },
  {
   "cell_type": "code",
   "execution_count": 48,
   "metadata": {},
   "outputs": [
    {
     "name": "stdout",
     "output_type": "stream",
     "text": [
      "['clark.kent@gmail.com', 'diana.prince@gmail.com', 'peter.parker@gmail.com', 'barbara.gordon@yahoo.com', 'jean.grey@yahoo.com', 'bruce.wayne@hotmail.com']\n"
     ]
    }
   ],
   "source": [
    "'''\n",
    "The email_list function receives a dictionary, which contains domain names as keys, \n",
    "and a list of users as values. Fill in the blanks to generate a list that contains \n",
    "complete email addresses (e.g. diana.prince@gmail.com).\n",
    "'''\n",
    "def email_list(domains):\n",
    "    emails = []\n",
    "    for i in domains:\n",
    "        for ii in domains[i]:\n",
    "            emails.append(ii+'@'+i)\n",
    "    return(emails)\n",
    "\n",
    "print(email_list({\"gmail.com\": [\"clark.kent\", \"diana.prince\", \"peter.parker\"], \"yahoo.com\": [\"barbara.gordon\", \"jean.grey\"], \"hotmail.com\": [\"bruce.wayne\"]}))"
   ]
  },
  {
   "cell_type": "code",
   "execution_count": 77,
   "metadata": {},
   "outputs": [],
   "source": [
    "def groups_per_user(group_dictionary):\n",
    "    user_groups = {}\n",
    "    # Go through group_dictionary\n",
    "    for group,users in group_dictionary.items():\n",
    "        # Now go through the users in the group\n",
    "        for user in users:\n",
    "        # Now add the group to the the list of\n",
    "          # groups for this user, creating the entry\n",
    "          # in the dictionary if necessary\n",
    "          user_groups[user] = user_groups.get(user,[]) + [group]\n",
    "\n",
    "    return(user_groups)"
   ]
  },
  {
   "cell_type": "code",
   "execution_count": 75,
   "metadata": {},
   "outputs": [
    {
     "name": "stdout",
     "output_type": "stream",
     "text": [
      "{'shirt': ['red', 'blue', 'white'], 'jeans': ['white'], 'scarf': ['yellow'], 'socks': ['black', 'brown']}\n"
     ]
    }
   ],
   "source": [
    "wardrobe = {'shirt': ['red', 'blue', 'white'], 'jeans': ['blue', 'black']}\n",
    "new_items = {'jeans': ['white'], 'scarf': ['yellow'], 'socks': ['black', 'brown']}\n",
    "wardrobe.update(new_items)\n",
    "print(wardrobe)"
   ]
  },
  {
   "cell_type": "code",
   "execution_count": 76,
   "metadata": {},
   "outputs": [
    {
     "name": "stdout",
     "output_type": "stream",
     "text": [
      "28.44\n"
     ]
    }
   ],
   "source": [
    "def add_prices(basket):\n",
    "    total = 0\n",
    "    for i in basket:\n",
    "        total += basket[i]\n",
    "    \n",
    "    return round(total, 2)  \n",
    "\n",
    "groceries = {\"bananas\": 1.56, \"apples\": 2.50, \"oranges\": 0.99, \"bread\": 4.59,\"coffee\": 6.99, \"milk\": 3.39, \"eggs\": 2.98, \"cheese\": 5.44}\n",
    "\n",
    "print(add_prices(groceries)) # Should print 28.44\n"
   ]
  },
  {
   "cell_type": "markdown",
   "metadata": {},
   "source": [
    "## MIX"
   ]
  },
  {
   "cell_type": "code",
   "execution_count": 79,
   "metadata": {},
   "outputs": [
    {
     "data": {
      "text/plain": [
       "['red', 'white', 'yellow', 'blue']"
      ]
     },
     "execution_count": 79,
     "metadata": {},
     "output_type": "execute_result"
    }
   ],
   "source": [
    "colors = [\"red\", \"white\", \"blue\"]\n",
    "colors.insert(2, \"yellow\")\n",
    "colors"
   ]
  },
  {
   "cell_type": "code",
   "execution_count": 81,
   "metadata": {},
   "outputs": [
    {
     "name": "stdout",
     "output_type": "stream",
     "text": [
      "pop\n",
      "t\n",
      "us\n"
     ]
    }
   ],
   "source": [
    "animal=\"Hippopotamus\"\n",
    "print(animal[3:6])\n",
    "print(animal[-5])\n",
    "print(animal[10:])\n"
   ]
  },
  {
   "cell_type": "code",
   "execution_count": 106,
   "metadata": {},
   "outputs": [
    {
     "name": "stdout",
     "output_type": "stream",
     "text": [
      "house number 123 on street named Main Street\n",
      "house number 1001 on street named 1st Ave\n",
      "house number 55 on street named North Center Drive\n"
     ]
    }
   ],
   "source": [
    "'''\n",
    "The format_address function separates out parts of the address string into new strings: \n",
    "house_number and street_name, and returns: \"house number X on street named Y\". \n",
    "The format of the input string is: numeric house number, followed by the street \n",
    "name which may contain numbers, but never by themselves, and could be several words long. \n",
    "For example, \"123 Main Street\", \"1001 1st Ave\", or \"55 North Center Drive\". \n",
    "Fill in the gaps to complete this function.\n",
    "'''\n",
    "def format_address(address_string):\n",
    "    house_number=\"\"\n",
    "    street_name=\"\"\n",
    "    l =address_string.split(\" \")\n",
    "    \n",
    "    house_number=l[0]\n",
    "    for i in range(1,len(l)):\n",
    "        if i ==(len(l)-1):\n",
    "            street_name=street_name+l[i]\n",
    "        else:\n",
    "            street_name=street_name+l[i]+\" \"\n",
    "\n",
    "    return \"house number {} on street named {}\".format(house_number,street_name)\n",
    "\n",
    "print(format_address(\"123 Main Street\"))\n",
    "# Should print: \"house number 123 on street named Main Street\"\n",
    "\n",
    "print(format_address(\"1001 1st Ave\"))\n",
    "# Should print: \"house number 1001 on street named 1st Ave\"\n",
    "\n",
    "print(format_address(\"55 North Center Drive\"))\n",
    "# Should print \"house number 55 on street named North Center Drive\""
   ]
  },
  {
   "cell_type": "code",
   "execution_count": 132,
   "metadata": {},
   "outputs": [
    {
     "name": "stdout",
     "output_type": "stream",
     "text": [
      "Have a NICE day\n",
      "Shhh, don't be so LOUD!\n",
      "Automating with Python is FUN\n"
     ]
    }
   ],
   "source": [
    "'''\n",
    "The highlight_word function changes the given word in a sentence to its upper-case version.\n",
    "For example, highlight_word(\"Have a nice day\", \"nice\") returns \"Have a NICE day\". \n",
    "Can you write this function in just one line?\n",
    "'''\n",
    "def highlight_word(sentence, word):\n",
    "    return(sentence.replace(word,word.upper()))\n",
    " \n",
    "            \n",
    "\n",
    "print(highlight_word(\"Have a nice day\", \"nice\"))\n",
    "print(highlight_word(\"Shhh, don't be so loud!\", \"loud\"))\n",
    "print(highlight_word(\"Automating with Python is fun\", \"fun\"))"
   ]
  },
  {
   "cell_type": "code",
   "execution_count": null,
   "metadata": {},
   "outputs": [],
   "source": []
  },
  {
   "cell_type": "code",
   "execution_count": null,
   "metadata": {},
   "outputs": [],
   "source": []
  }
 ],
 "metadata": {
  "kernelspec": {
   "display_name": "Python 3",
   "language": "python",
   "name": "python3"
  },
  "language_info": {
   "codemirror_mode": {
    "name": "ipython",
    "version": 3
   },
   "file_extension": ".py",
   "mimetype": "text/x-python",
   "name": "python",
   "nbconvert_exporter": "python",
   "pygments_lexer": "ipython3",
   "version": "3.7.4"
  }
 },
 "nbformat": 4,
 "nbformat_minor": 2
}
