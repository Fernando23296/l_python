{
 "cells": [
  {
   "cell_type": "markdown",
   "metadata": {},
   "source": [
    "# tuplas"
   ]
  },
  {
   "cell_type": "code",
   "execution_count": 1,
   "metadata": {},
   "outputs": [
    {
     "name": "stdout",
     "output_type": "stream",
     "text": [
      "aa\n",
      "ab\n",
      "ac\n",
      "ba\n",
      "bb\n",
      "bc\n",
      "ca\n",
      "cb\n",
      "cc\n"
     ]
    }
   ],
   "source": [
    "from itertools import product\n",
    "for c in product(\"abc\", repeat=2):\n",
    "  print(\"\".join(c))"
   ]
  },
  {
   "cell_type": "markdown",
   "metadata": {},
   "source": [
    "# permutaciones"
   ]
  },
  {
   "cell_type": "code",
   "execution_count": 2,
   "metadata": {},
   "outputs": [
    {
     "name": "stdout",
     "output_type": "stream",
     "text": [
      "ab\n",
      "ac\n",
      "ba\n",
      "bc\n",
      "ca\n",
      "cb\n"
     ]
    }
   ],
   "source": [
    "from itertools import permutations\n",
    "for c in permutations(\"abc\", 2):\n",
    "  print(\"\".join(c))"
   ]
  },
  {
   "cell_type": "markdown",
   "metadata": {},
   "source": [
    "# combinaciones"
   ]
  },
  {
   "cell_type": "code",
   "execution_count": 3,
   "metadata": {},
   "outputs": [
    {
     "name": "stdout",
     "output_type": "stream",
     "text": [
      "ab\n",
      "ac\n",
      "bc\n"
     ]
    }
   ],
   "source": [
    "from itertools import combinations\n",
    "for c in combinations(\"abc\", 2):\n",
    "  print(\"\".join(c))"
   ]
  },
  {
   "cell_type": "markdown",
   "metadata": {},
   "source": [
    "# combinaciones con repeticiones"
   ]
  },
  {
   "cell_type": "code",
   "execution_count": 4,
   "metadata": {},
   "outputs": [
    {
     "name": "stdout",
     "output_type": "stream",
     "text": [
      "aa\n",
      "ab\n",
      "ac\n",
      "bb\n",
      "bc\n",
      "cc\n"
     ]
    }
   ],
   "source": [
    "from itertools import combinations_with_replacement\n",
    "for c in combinations_with_replacement(\"abc\", 2):\n",
    "  print(\"\".join(c))"
   ]
  },
  {
   "cell_type": "code",
   "execution_count": 5,
   "metadata": {},
   "outputs": [
    {
     "name": "stdout",
     "output_type": "stream",
     "text": [
      "aaaa\n",
      "aaab\n",
      "aaac\n",
      "aabb\n",
      "aabc\n",
      "aacc\n",
      "abbb\n",
      "abbc\n",
      "abcc\n",
      "accc\n",
      "bbbb\n",
      "bbbc\n",
      "bbcc\n",
      "bccc\n",
      "cccc\n"
     ]
    }
   ],
   "source": [
    "from itertools import combinations_with_replacement\n",
    "for c in combinations_with_replacement(\"abc\", 4):\n",
    "  print(\"\".join(c))"
   ]
  },
  {
   "cell_type": "markdown",
   "metadata": {},
   "source": [
    "# Unordered combinations  repetitions"
   ]
  },
  {
   "cell_type": "code",
   "execution_count": 8,
   "metadata": {},
   "outputs": [
    {
     "name": "stdout",
     "output_type": "stream",
     "text": [
      "TTTTTTT\n",
      "TTTTTTB\n",
      "TTTTTTL\n",
      "TTTTTTE\n",
      "TTTTTBB\n",
      "TTTTTBL\n",
      "TTTTTBE\n",
      "TTTTTLL\n",
      "TTTTTLE\n",
      "TTTTTEE\n",
      "TTTTBBB\n",
      "TTTTBBL\n",
      "TTTTBBE\n",
      "TTTTBLL\n",
      "TTTTBLE\n",
      "TTTTBEE\n",
      "TTTTLLL\n",
      "TTTTLLE\n",
      "TTTTLEE\n",
      "TTTTEEE\n",
      "TTTBBBB\n",
      "TTTBBBL\n",
      "TTTBBBE\n",
      "TTTBBLL\n",
      "TTTBBLE\n",
      "TTTBBEE\n",
      "TTTBLLL\n",
      "TTTBLLE\n",
      "TTTBLEE\n",
      "TTTBEEE\n",
      "TTTLLLL\n",
      "TTTLLLE\n",
      "TTTLLEE\n",
      "TTTLEEE\n",
      "TTTEEEE\n",
      "TTBBBBB\n",
      "TTBBBBL\n",
      "TTBBBBE\n",
      "TTBBBLL\n",
      "TTBBBLE\n",
      "TTBBBEE\n",
      "TTBBLLL\n",
      "TTBBLLE\n",
      "TTBBLEE\n",
      "TTBBEEE\n",
      "TTBLLLL\n",
      "TTBLLLE\n",
      "TTBLLEE\n",
      "TTBLEEE\n",
      "TTBEEEE\n",
      "TTLLLLL\n",
      "TTLLLLE\n",
      "TTLLLEE\n",
      "TTLLEEE\n",
      "TTLEEEE\n",
      "TTEEEEE\n",
      "TBBBBBB\n",
      "TBBBBBL\n",
      "TBBBBBE\n",
      "TBBBBLL\n",
      "TBBBBLE\n",
      "TBBBBEE\n",
      "TBBBLLL\n",
      "TBBBLLE\n",
      "TBBBLEE\n",
      "TBBBEEE\n",
      "TBBLLLL\n",
      "TBBLLLE\n",
      "TBBLLEE\n",
      "TBBLEEE\n",
      "TBBEEEE\n",
      "TBLLLLL\n",
      "TBLLLLE\n",
      "TBLLLEE\n",
      "TBLLEEE\n",
      "TBLEEEE\n",
      "TBEEEEE\n",
      "TLLLLLL\n",
      "TLLLLLE\n",
      "TLLLLEE\n",
      "TLLLEEE\n",
      "TLLEEEE\n",
      "TLEEEEE\n",
      "TEEEEEE\n",
      "BBBBBBB\n",
      "BBBBBBL\n",
      "BBBBBBE\n",
      "BBBBBLL\n",
      "BBBBBLE\n",
      "BBBBBEE\n",
      "BBBBLLL\n",
      "BBBBLLE\n",
      "BBBBLEE\n",
      "BBBBEEE\n",
      "BBBLLLL\n",
      "BBBLLLE\n",
      "BBBLLEE\n",
      "BBBLEEE\n",
      "BBBEEEE\n",
      "BBLLLLL\n",
      "BBLLLLE\n",
      "BBLLLEE\n",
      "BBLLEEE\n",
      "BBLEEEE\n",
      "BBEEEEE\n",
      "BLLLLLL\n",
      "BLLLLLE\n",
      "BLLLLEE\n",
      "BLLLEEE\n",
      "BLLEEEE\n",
      "BLEEEEE\n",
      "BEEEEEE\n",
      "LLLLLLL\n",
      "LLLLLLE\n",
      "LLLLLEE\n",
      "LLLLEEE\n",
      "LLLEEEE\n",
      "LLEEEEE\n",
      "LEEEEEE\n",
      "EEEEEEE\n"
     ]
    }
   ],
   "source": [
    "from itertools import combinations_with_replacement\n",
    "for c in combinations_with_replacement(\"TBLE\",7):\n",
    "    print(\"\".join(c))"
   ]
  },
  {
   "cell_type": "code",
   "execution_count": null,
   "metadata": {},
   "outputs": [],
   "source": []
  }
 ],
 "metadata": {
  "kernelspec": {
   "display_name": "Python 3",
   "language": "python",
   "name": "python3"
  },
  "language_info": {
   "codemirror_mode": {
    "name": "ipython",
    "version": 3
   },
   "file_extension": ".py",
   "mimetype": "text/x-python",
   "name": "python",
   "nbconvert_exporter": "python",
   "pygments_lexer": "ipython3",
   "version": "3.7.4"
  }
 },
 "nbformat": 4,
 "nbformat_minor": 2
}
