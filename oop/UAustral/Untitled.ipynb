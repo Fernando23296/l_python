{
 "cells": [
  {
   "cell_type": "markdown",
   "metadata": {},
   "source": [
    "# Universidad Austral - OOP with Python\n",
    "## Week 1"
   ]
  },
  {
   "cell_type": "code",
   "execution_count": 2,
   "metadata": {},
   "outputs": [],
   "source": [
    "# Exercise 1\n",
    "# Modelar una clase de dinero\n",
    "class Currency(object):\n",
    "    \"Represent a currency\"\n",
    "    def __init__(self,name, symbol):\n",
    "        self.name = name\n",
    "        self.symbol = symbol\n",
    "\n",
    "    def __repr__(self):\n",
    "        return self.name\n",
    "    \n",
    "class Money(object):\n",
    "    \"Represent an amount of money\"\n",
    "    def __init__(self, amount, currency):\n",
    "        self.amount = amount\n",
    "        self.currency = currency\n",
    "    def __repr__(self):\n",
    "        return \"{} {}\".format(self.currency.symbol,self.amount)"
   ]
  },
  {
   "cell_type": "code",
   "execution_count": 3,
   "metadata": {},
   "outputs": [],
   "source": [
    "dolar = Currency('dolar','U$')\n",
    "pesos = Currency('pesos(Arg)',\"A$\")\n",
    "\n",
    "one_dolar = Money(1,dolar)\n",
    "one_peso = Money(10,pesos)"
   ]
  },
  {
   "cell_type": "code",
   "execution_count": 5,
   "metadata": {},
   "outputs": [
    {
     "name": "stdout",
     "output_type": "stream",
     "text": [
      "U$ 1\n",
      "A$ 10\n"
     ]
    }
   ],
   "source": [
    "print(one_dolar)\n",
    "print(one_peso)"
   ]
  },
  {
   "cell_type": "code",
   "execution_count": 12,
   "metadata": {},
   "outputs": [],
   "source": [
    "# Exercise 2\n",
    "# NOW THE CLASS NEED TO DO BASIC OPERATIONS BETWEEN THE SAME MONEY AND DIFFERENT MONEY\n",
    "class Currency(object):\n",
    "    \"Represent a currency, represent the coin\"\n",
    "    def __init__(self,name,symbol, factor):\n",
    "        self.name=name\n",
    "        self.symbol=symbol\n",
    "        self.factor=factor\n",
    "    \n",
    "    def convert_amount_to_base_currency(self,aNumber):\n",
    "        return aNumber * self.factor\n",
    "\n",
    "    def convert_amount_from_base_currency(self,aNumber):\n",
    "        return aNumber / self.factor\n",
    "    \n",
    "    def __repr__(self):\n",
    "        return self.name\n",
    "\n",
    "class Money(object):\n",
    "    \"Represent an amount of money\"\n",
    "    def __init__(self,amount,currency):\n",
    "        self.amount = amount\n",
    "        self.currency = currency\n",
    "    \n",
    "    def base_currency_amount(self):\n",
    "        return self.currency.convert_amount_to_base_currency(self.amount)\n",
    "    \n",
    "    def __add__(self,anAmountOfMoney):\n",
    "        amount = self.base_currency_amount() + anAmountOfMoney.base_currency_amount()\n",
    "        amount = self.currency.convert_amount_from_base_currency(amount)\n",
    "        return Money(amount, self.currency)\n",
    "    \n",
    "    def __sub__(self,anAmountOfMoney):\n",
    "        amount = self.base_currency_amount() - anAmountOfMoney.base_currency_amount()\n",
    "        amount = self.currency.convert_amount_from_base_currency(amount)\n",
    "        return Money(amount, self.currency)\n",
    "        \n",
    "    def __mul__(self,aNumber):\n",
    "        return Money(self.amount * aNumber, self.currency)\n",
    "    \n",
    "    def __truediv__(self,aNumber):\n",
    "        return Money(self.amount / aNumber, self.currency)\n",
    "    \n",
    "    def __repr__(self):\n",
    "        return \"{} {}\".format(self.currency.symbol, self.amount)\n"
   ]
  },
  {
   "cell_type": "code",
   "execution_count": 13,
   "metadata": {},
   "outputs": [],
   "source": [
    "dolar = Currency('dolar','U$',1)\n",
    "pesos = Currency('pesos (Arg)','$',1/40)\n",
    "\n",
    "one_dolar = Money(1,dolar)\n",
    "one_peso = Money(1,pesos)"
   ]
  },
  {
   "cell_type": "code",
   "execution_count": 18,
   "metadata": {},
   "outputs": [
    {
     "data": {
      "text/plain": [
       "U$ 1.025"
      ]
     },
     "execution_count": 18,
     "metadata": {},
     "output_type": "execute_result"
    }
   ],
   "source": [
    "one_dolar + (one_peso*1)"
   ]
  },
  {
   "cell_type": "code",
   "execution_count": null,
   "metadata": {},
   "outputs": [],
   "source": []
  }
 ],
 "metadata": {
  "kernelspec": {
   "display_name": "Python 3",
   "language": "python",
   "name": "python3"
  },
  "language_info": {
   "codemirror_mode": {
    "name": "ipython",
    "version": 3
   },
   "file_extension": ".py",
   "mimetype": "text/x-python",
   "name": "python",
   "nbconvert_exporter": "python",
   "pygments_lexer": "ipython3",
   "version": "3.7.4"
  }
 },
 "nbformat": 4,
 "nbformat_minor": 2
}
