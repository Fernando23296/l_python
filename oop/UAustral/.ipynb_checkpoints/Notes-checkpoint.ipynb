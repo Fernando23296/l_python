{
 "cells": [
  {
   "cell_type": "markdown",
   "metadata": {},
   "source": [
    "# Universidad Austral - OOP with Python\n",
    "## Week 1"
   ]
  },
  {
   "cell_type": "code",
   "execution_count": 2,
   "metadata": {},
   "outputs": [],
   "source": [
    "# Exercise 1\n",
    "# Modelar una clase de dinero\n",
    "class Currency(object):\n",
    "    \"Represent a currency\"\n",
    "    def __init__(self,name, symbol):\n",
    "        self.name = name\n",
    "        self.symbol = symbol\n",
    "\n",
    "    def __repr__(self):\n",
    "        return self.name\n",
    "    \n",
    "class Money(object):\n",
    "    \"Represent an amount of money\"\n",
    "    def __init__(self, amount, currency):\n",
    "        self.amount = amount\n",
    "        self.currency = currency\n",
    "    def __repr__(self):\n",
    "        return \"{} {}\".format(self.currency.symbol,self.amount)"
   ]
  },
  {
   "cell_type": "code",
   "execution_count": 3,
   "metadata": {},
   "outputs": [],
   "source": [
    "dolar = Currency('dolar','U$')\n",
    "pesos = Currency('pesos(Arg)',\"A$\")\n",
    "\n",
    "one_dolar = Money(1,dolar)\n",
    "one_peso = Money(10,pesos)"
   ]
  },
  {
   "cell_type": "code",
   "execution_count": 5,
   "metadata": {},
   "outputs": [
    {
     "name": "stdout",
     "output_type": "stream",
     "text": [
      "U$ 1\n",
      "A$ 10\n"
     ]
    }
   ],
   "source": [
    "print(one_dolar)\n",
    "print(one_peso)"
   ]
  },
  {
   "cell_type": "code",
   "execution_count": 12,
   "metadata": {},
   "outputs": [],
   "source": [
    "# Exercise 2\n",
    "# NOW THE CLASS NEED TO DO BASIC OPERATIONS BETWEEN THE SAME MONEY AND DIFFERENT MONEY\n",
    "class Currency(object):\n",
    "    \"Represent a currency, represent the coin\"\n",
    "    def __init__(self,name,symbol, factor):\n",
    "        self.name=name\n",
    "        self.symbol=symbol\n",
    "        self.factor=factor\n",
    "    \n",
    "    def convert_amount_to_base_currency(self,aNumber):\n",
    "        return aNumber * self.factor\n",
    "\n",
    "    def convert_amount_from_base_currency(self,aNumber):\n",
    "        return aNumber / self.factor\n",
    "    \n",
    "    def __repr__(self):\n",
    "        return self.name\n",
    "\n",
    "class Money(object):\n",
    "    \"Represent an amount of money\"\n",
    "    def __init__(self,amount,currency):\n",
    "        self.amount = amount\n",
    "        self.currency = currency\n",
    "    \n",
    "    def base_currency_amount(self):\n",
    "        return self.currency.convert_amount_to_base_currency(self.amount)\n",
    "    \n",
    "    def __add__(self,anAmountOfMoney):\n",
    "        amount = self.base_currency_amount() + anAmountOfMoney.base_currency_amount()\n",
    "        amount = self.currency.convert_amount_from_base_currency(amount)\n",
    "        return Money(amount, self.currency)\n",
    "    \n",
    "    def __sub__(self,anAmountOfMoney):\n",
    "        amount = self.base_currency_amount() - anAmountOfMoney.base_currency_amount()\n",
    "        amount = self.currency.convert_amount_from_base_currency(amount)\n",
    "        return Money(amount, self.currency)\n",
    "        \n",
    "    def __mul__(self,aNumber):\n",
    "        return Money(self.amount * aNumber, self.currency)\n",
    "    \n",
    "    def __truediv__(self,aNumber):\n",
    "        return Money(self.amount / aNumber, self.currency)\n",
    "    \n",
    "    def __repr__(self):\n",
    "        return \"{} {}\".format(self.currency.symbol, self.amount)\n"
   ]
  },
  {
   "cell_type": "code",
   "execution_count": 13,
   "metadata": {},
   "outputs": [],
   "source": [
    "dolar = Currency('dolar','U$',1)\n",
    "pesos = Currency('pesos (Arg)','$',1/40)\n",
    "\n",
    "one_dolar = Money(1,dolar)\n",
    "one_peso = Money(1,pesos)"
   ]
  },
  {
   "cell_type": "code",
   "execution_count": 18,
   "metadata": {},
   "outputs": [
    {
     "data": {
      "text/plain": [
       "U$ 1.025"
      ]
     },
     "execution_count": 18,
     "metadata": {},
     "output_type": "execute_result"
    }
   ],
   "source": [
    "one_dolar + (one_peso*1)"
   ]
  },
  {
   "cell_type": "markdown",
   "metadata": {},
   "source": [
    "## OOP\n",
    "\n",
    "Un programa en el paradigma OOP se define como Objetos que colaboran entre si enviandose mensajes.\n",
    "\n",
    "Conceptos generales:\n",
    "\n",
    "### Objeto\n",
    "* Es la representacion de un ente del dominio de problema, un ente es cualquier cosa que podamos observar, hablar,etc.\n",
    "* Su esencia se basa en los mensajes que el objeto sabe responder.\n",
    "\n",
    "### Mensaje\n",
    "* Es una especificacion sobre que puede hacer un objeto.\n",
    "* Los mensajes son objetos, por lo tanto representa un ente de la realidad, pero del dominio de la comunicacion.\n",
    "* Representa un objeto a partir de los mensajes que sabe responder\n",
    "\n",
    "### Colaboracion\n",
    "Es el hecho de que dos objetos se comunican por medio de un mensaje.\n",
    "En toda colaboracion existe:\n",
    "* Un emisor del mensaje\n",
    "* Un receptor del mensaje\n",
    "* Un conjtuno de objetos que forman parte del mensaje (colaboradores externos o parametros)\n",
    "* Una respuesta\n",
    "\n",
    "Estas colaboraciones son:\n",
    "* Dirigidas (no broadcast)\n",
    "* Sincronicas (no continuan hasta tener la respuesta del otro)\n",
    "* Receptor no conoce al emisor\n",
    "* Siempre hay respuesta\n",
    "\n",
    "### Prototipo\n",
    "Es un objeto ejemplar que representa el comportamiento de un conjunto de objetos similares, para lenguajes de prototipacion \n",
    "### Clases\n",
    "\n",
    "Es un objeto que representa un concepto o idea del dominio del problema, para lenduaje de clasificacion o aristotelicos, como es objeto sabe responder mensajes.\n",
    "\n",
    "### Metodo\n",
    "Es un objeto que representa un conjunto de colaboraciones. Es evaluado como resultado de la recepcion de un mensaje por parte de un objeto. El metodo se busca utilizando el algoritmo <i>Method Lookup</i>\n",
    "Dos tipos de metodos:\n",
    "* Metodos de instancia: metodos que implementan los mensajes que se envian a los objetos que son instancias de la clase.\n",
    "* Metodos de clase: metodos que implemnentan los mensajes que se envian a la clase\n",
    "\n",
    "### Relacion de conocimiento\n",
    "Unica relacion que existe entre objetos, permite la colaboracion de un objeto con otro.\n",
    "\n",
    "\n",
    "### Variable\n",
    "Es un nombre contextual que se le asigna a una relacion de conocimietno, esto implica que el objeto conocido es llamado, en el contexto del conocedor, de acuerdo a dicho nombre. \n",
    "Dos tipos de variable:\n",
    "\n",
    "* Variable de instancia: representan las relaciones de conocimiento del objeto que es instancia de una clase\n",
    "* Variable de clase: representa las relaciones de conocmiento de clase\n",
    "\n",
    "### Polimorfismo\n",
    "Dos o mas objetos son polimorficos, entre si para un conjunto de mensajes (metodos) si responden a dicho conjunto de mensajes, semanticamente igual // Sematicamente igual signifcia que hacen lo mismo: reciben objetos polimorficos y devuelven objetos polimorficos.\n",
    "### Herencia\n",
    "La Herencia (o subclasificacion) es una herramienta utilizada para organizar el conocimiento en ontologias, relacion estatica en clases.\n",
    "### Clasificacion y subclasificacion\n",
    "La clasificacion tiene ciertos defectos:\n",
    "* Es un relacion estatica entre clases\n",
    "* Obliga a tener una clase antes del objeto concreto (antinatural)\n",
    "* Obliga a generalizar cuando aun no se posee el conocimiento total de aquello que representa\n",
    "\n",
    "#### Subclasificacion\n",
    "Utilizaada para organizar el conocimeinto en ontologias, es una relacion estaica entre clases, permite organizar el conocimiento en:\n",
    "* Clases abstractas (representan conceptos abstractos)\n",
    "* Clases concretas (representan conceptos con realizacions concretas)\n",
    "\n",
    "\n",
    "La subclasificacion tiene ciertos defectos:\n",
    "* Debe ser especificada de manera inversa a como se obtiene el conocimiento\n",
    "* Rompe el encapsulamiento\n",
    "\n",
    "### elementos del paradigma OOP\n",
    "* Un metodo es un objeto que representa un conjunto de colaboraciones\n",
    "* La relacion de conocimiento es la unica relacion que existe entre los objetos\n",
    "* Una variable es un nombre contextual que se le asigna a una relacion de conocimiento\n",
    "* La definicion de tipo en el paradigma OOP es que es un conjutno de mensajes\n",
    "\n",
    "En python, como es dinamico, el unico complemento entre los objetos son los mensajes que se envian, por eso es mas facil editar el modelo.\n",
    "\n",
    "Python es multiparadigma: funcional e imperativo\n",
    "\n",
    "Sus ventajas:\n",
    "* Todo es un objeto\n",
    "* Dinamicamente tipado, se puede usar a full el polimorfismo\n",
    "* Se puede hacer metaprogramacion\n",
    "\n",
    "\n"
   ]
  },
  {
   "cell_type": "code",
   "execution_count": null,
   "metadata": {},
   "outputs": [],
   "source": []
  }
 ],
 "metadata": {
  "kernelspec": {
   "display_name": "Python 3",
   "language": "python",
   "name": "python3"
  },
  "language_info": {
   "codemirror_mode": {
    "name": "ipython",
    "version": 3
   },
   "file_extension": ".py",
   "mimetype": "text/x-python",
   "name": "python",
   "nbconvert_exporter": "python",
   "pygments_lexer": "ipython3",
   "version": "3.7.4"
  }
 },
 "nbformat": 4,
 "nbformat_minor": 2
}
